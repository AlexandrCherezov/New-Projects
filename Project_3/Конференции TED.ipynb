{
 "cells": [
  {
   "cell_type": "markdown",
   "id": "4dd05ff7",
   "metadata": {},
   "source": [
    "[**Открыть дашборд**](https://public.tableau.com/app/profile/aleksandr.cherezov/viz/TED_16973698651400/sheet42)\n",
    "\n",
    "[**Открыть Презентацию**](https://drive.google.com/file/d/1P8LxnFICWaVEUgrJl-WuiLssuAeHVYyc/view?usp=sharing)"
   ]
  },
  {
   "cell_type": "markdown",
   "id": "337465da",
   "metadata": {},
   "source": [
    "# Исследование истории TED-конференций.\n",
    "\n",
    "TED (от англ. technology, education, design — «технологии, образование, дизайн») — некоммерческий фонд, который проводит популярные конференции. На них выступают специалисты из разных областей и читают лекции на актуальные социальные, культурные и научные темы. \n",
    "\n",
    "**В исследовании:**\n",
    "Изучим материалы и создадим дашборды по категориям:\n",
    "- «История выступлений»\n",
    "- «Тематики выступлений»\n",
    "- «Авторы выступлений»\n",
    "- «Конференции»\n",
    "\n",
    "**Подготовим презентацию исследования** \n",
    "\n",
    "**Ход исследования:**\n",
    "- Загрузка данных из предоставленных файлов и подготовка их к анализу\n",
    "- Изучение общей информации о датафрейме и предобработка данных\n",
    "- Исследовательский анализ данных\n",
    "- Подготовка презентации \n",
    "- Выводы и заключения\n",
    "\n",
    "\n"
   ]
  },
  {
   "cell_type": "markdown",
   "id": "e1a05c66",
   "metadata": {
    "id": "r-BO88CnWVwe"
   },
   "source": [
    "## Загрузка и подготовка данных к анализу"
   ]
  },
  {
   "cell_type": "markdown",
   "id": "521aa060",
   "metadata": {
    "id": "LCZi0P80WVwj"
   },
   "source": [
    "Загрузим предоставленные данные о поведении покупателей из CSV-файла.\n",
    "\n",
    "**Путь к файлам**\n",
    "\n",
    "XXX<br>  \n",
    "\n",
    "Изучим данные и выполним предобработку. Есть ли в данных пропуски и дубликаты? Убедимся, что типы данных во всех колонках соответствуют сохранённым в них значениям. Обратим внимание на столбцы с датой и временем."
   ]
  },
  {
   "cell_type": "markdown",
   "id": "ec01a10a",
   "metadata": {
    "id": "_vsKinGUWVwk"
   },
   "source": [
    "### Импортируем библиотеки:\n",
    "- **pandas**  \n",
    "- **IPython.display для отображения данных**"
   ]
  },
  {
   "cell_type": "code",
   "execution_count": 1,
   "id": "aa0b92cc",
   "metadata": {},
   "outputs": [],
   "source": [
    "import pandas as pd\n",
    "from IPython.display import display"
   ]
  },
  {
   "cell_type": "markdown",
   "id": "26c966d3",
   "metadata": {},
   "source": [
    "### Загрузим данные из csv-файлов.\n",
    "\n",
    "Сохраним данные в переменную **data**.  \n",
    "В качестве разделителя столбцов используем соответствиующий файлу тип - ```sep = ','```, используем его по умолчанию."
   ]
  },
  {
   "cell_type": "code",
   "execution_count": 2,
   "id": "82740570",
   "metadata": {},
   "outputs": [
    {
     "name": "stdout",
     "output_type": "stream",
     "text": [
      "Файл загружен из ЛК ЯП\n"
     ]
    }
   ],
   "source": [
    "try:\n",
    "    data1 = pd.read_csv('XXXX')\n",
    "    data2 = pd.read_csv('XXXX')\n",
    "    data3 = pd.read_csv('XXXX')\n",
    "    event = pd.read_csv('XXXX')\n",
    "    speakers = pd.read_csv('XXXX')\n",
    "    print(\"Файл загружен с Локального диска\")    \n",
    "    \n",
    "except:\n",
    "    data1 = pd.read_csv('XXXX.csv')\n",
    "    data2 = pd.read_csv('XXXX.csv')\n",
    "    data3 = pd.read_csv('XXXX.csv')\n",
    "    event = pd.read_csv('XXXX.csv')\n",
    "    speakers = pd.read_csv('XXXX.csv')\n",
    "    print(\"Файл загружен из ЛК ЯП\")    \n"
   ]
  },
  {
   "cell_type": "markdown",
   "id": "d3b31523",
   "metadata": {},
   "source": [
    "Объединим данные в базах data1, data2 и data3 в единый датафрейм data методом append()."
   ]
  },
  {
   "cell_type": "code",
   "execution_count": 3,
   "id": "63e8b400",
   "metadata": {},
   "outputs": [],
   "source": [
    "data = data1.append(data2)\n",
    "data = data.append(data3)"
   ]
  },
  {
   "cell_type": "markdown",
   "id": "f0b5adfb",
   "metadata": {},
   "source": [
    "### Выведем основную информацию о датафреймах и ознакомимся с ней\n",
    "\n",
    "Поскольку в исследовании используются несколько датафреймов, то для ознакомления с информацией в них создадим небольшую функцию `acquaintance` "
   ]
  },
  {
   "cell_type": "code",
   "execution_count": 4,
   "id": "f77e89e2",
   "metadata": {},
   "outputs": [],
   "source": [
    "def acquaintance (df):\n",
    "    print(\"\\033[34m\"\"\\033[1m\"\"Первые строки датафрейма\")\n",
    "    display(df.head(5))\n",
    "    print(\"\\033[34m\"\"\\033[1m\"\"Информация о типах данных\")\n",
    "    print()\n",
    "    display(df.info())\n",
    "    print(\"\\033[34m\"\"\\033[1m\"\"Доля пропущенных значений \")\n",
    "    display(round(df.isna().mean() * 100).astype(int))\n",
    "    return"
   ]
  },
  {
   "cell_type": "markdown",
   "id": "b7ab449a",
   "metadata": {},
   "source": [
    "#### Заказчик сообщил нам структуру файлов `tableau_project_data_Х.csv` (объединенных и переименованных нами в ```data```):\n",
    "\n",
    "| | | |\n",
    "|:-----|:----|----:|\n",
    "talk_id | идентификатор выступления|  |\n",
    "url | ссылка на запись выступления|  |\n",
    "title | название выступления|  |\n",
    "description | краткое описание|  |\n",
    "film_date | дата записи выступления|  |\n",
    "duration | длительность в секундах|  |\n",
    "views | количество просмотров|  |\n",
    "main_tag | основная категория, к которой относится выступление|  |\n",
    "speaker_id | уникальный идентификатор автора выступления|  |\n",
    "laughter_count | количество раз, когда аудитория смеялась в ходе выступления|  |\n",
    "applause_count | количество раз, когда аудитория аплодировала в ходе выступления|  |\n",
    "language | язык, на котором велось выступление|  |\n",
    "event_id | уникальный идентификатор конференции|  |\n",
    "  \n",
    "Выведем первые строки датафрейма, информацию о типах данных и о пропусках  "
   ]
  },
  {
   "cell_type": "code",
   "execution_count": 5,
   "id": "ad5028da",
   "metadata": {},
   "outputs": [
    {
     "name": "stdout",
     "output_type": "stream",
     "text": [
      "\u001b[34m\u001b[1mПервые строки датафрейма\n"
     ]
    },
    {
     "data": {
      "text/html": [
       "<div>\n",
       "<style scoped>\n",
       "    .dataframe tbody tr th:only-of-type {\n",
       "        vertical-align: middle;\n",
       "    }\n",
       "\n",
       "    .dataframe tbody tr th {\n",
       "        vertical-align: top;\n",
       "    }\n",
       "\n",
       "    .dataframe thead th {\n",
       "        text-align: right;\n",
       "    }\n",
       "</style>\n",
       "<table border=\"1\" class=\"dataframe\">\n",
       "  <thead>\n",
       "    <tr style=\"text-align: right;\">\n",
       "      <th></th>\n",
       "      <th>talk_id</th>\n",
       "      <th>url</th>\n",
       "      <th>title</th>\n",
       "      <th>description</th>\n",
       "      <th>film_date</th>\n",
       "      <th>duration</th>\n",
       "      <th>views</th>\n",
       "      <th>main_tag</th>\n",
       "      <th>speaker_id</th>\n",
       "      <th>laughter_count</th>\n",
       "      <th>applause_count</th>\n",
       "      <th>language</th>\n",
       "      <th>event_id</th>\n",
       "    </tr>\n",
       "  </thead>\n",
       "  <tbody>\n",
       "    <tr>\n",
       "      <th>0</th>\n",
       "      <td>84216</td>\n",
       "      <td>https://www.ted.com/talks/christina_costa_how_...</td>\n",
       "      <td>How gratitude rewires your brain</td>\n",
       "      <td>When a psychologist who studies well-being end...</td>\n",
       "      <td>2021-03-27</td>\n",
       "      <td>600</td>\n",
       "      <td>718724</td>\n",
       "      <td>health</td>\n",
       "      <td>6625</td>\n",
       "      <td>0.0</td>\n",
       "      <td>0.0</td>\n",
       "      <td>English</td>\n",
       "      <td>309</td>\n",
       "    </tr>\n",
       "    <tr>\n",
       "      <th>1</th>\n",
       "      <td>66033</td>\n",
       "      <td>https://www.ted.com/talks/caitlin_holman_how_g...</td>\n",
       "      <td>How game design can help schooling</td>\n",
       "      <td>The world is changing rapidly but models of de...</td>\n",
       "      <td>2017-02-08</td>\n",
       "      <td>1043</td>\n",
       "      <td>46441</td>\n",
       "      <td>education</td>\n",
       "      <td>53443</td>\n",
       "      <td>NaN</td>\n",
       "      <td>NaN</td>\n",
       "      <td>English</td>\n",
       "      <td>309</td>\n",
       "    </tr>\n",
       "    <tr>\n",
       "      <th>2</th>\n",
       "      <td>21933</td>\n",
       "      <td>https://www.ted.com/talks/terri_conley_we_need...</td>\n",
       "      <td>We need to rethink casual sex</td>\n",
       "      <td>Social psychologist and sex researcher Terri C...</td>\n",
       "      <td>2016-04-01</td>\n",
       "      <td>1091</td>\n",
       "      <td>273438</td>\n",
       "      <td>society</td>\n",
       "      <td>5107</td>\n",
       "      <td>0.0</td>\n",
       "      <td>0.0</td>\n",
       "      <td>English</td>\n",
       "      <td>309</td>\n",
       "    </tr>\n",
       "    <tr>\n",
       "      <th>3</th>\n",
       "      <td>2022</td>\n",
       "      <td>https://www.ted.com/talks/anne_curzan_what_mak...</td>\n",
       "      <td>What makes a word \"real\"?</td>\n",
       "      <td>One could argue that slang words like ‘hangry,...</td>\n",
       "      <td>2014-03-15</td>\n",
       "      <td>1033</td>\n",
       "      <td>2031550</td>\n",
       "      <td>culture</td>\n",
       "      <td>1938</td>\n",
       "      <td>12.0</td>\n",
       "      <td>4.0</td>\n",
       "      <td>English</td>\n",
       "      <td>309</td>\n",
       "    </tr>\n",
       "    <tr>\n",
       "      <th>4</th>\n",
       "      <td>83538</td>\n",
       "      <td>https://www.ted.com/talks/jane_walsh_the_rise_...</td>\n",
       "      <td>The rise of predatory scams -- and how to prev...</td>\n",
       "      <td>Questionable phone calls, concerning emails, h...</td>\n",
       "      <td>2021-06-26</td>\n",
       "      <td>833</td>\n",
       "      <td>802109</td>\n",
       "      <td>technology</td>\n",
       "      <td>6606</td>\n",
       "      <td>0.0</td>\n",
       "      <td>0.0</td>\n",
       "      <td>English</td>\n",
       "      <td>233</td>\n",
       "    </tr>\n",
       "  </tbody>\n",
       "</table>\n",
       "</div>"
      ],
      "text/plain": [
       "   talk_id                                                url  \\\n",
       "0    84216  https://www.ted.com/talks/christina_costa_how_...   \n",
       "1    66033  https://www.ted.com/talks/caitlin_holman_how_g...   \n",
       "2    21933  https://www.ted.com/talks/terri_conley_we_need...   \n",
       "3     2022  https://www.ted.com/talks/anne_curzan_what_mak...   \n",
       "4    83538  https://www.ted.com/talks/jane_walsh_the_rise_...   \n",
       "\n",
       "                                               title  \\\n",
       "0                   How gratitude rewires your brain   \n",
       "1                 How game design can help schooling   \n",
       "2                     We need to rethink casual sex    \n",
       "3                          What makes a word \"real\"?   \n",
       "4  The rise of predatory scams -- and how to prev...   \n",
       "\n",
       "                                         description   film_date  duration  \\\n",
       "0  When a psychologist who studies well-being end...  2021-03-27       600   \n",
       "1  The world is changing rapidly but models of de...  2017-02-08      1043   \n",
       "2  Social psychologist and sex researcher Terri C...  2016-04-01      1091   \n",
       "3  One could argue that slang words like ‘hangry,...  2014-03-15      1033   \n",
       "4  Questionable phone calls, concerning emails, h...  2021-06-26       833   \n",
       "\n",
       "     views    main_tag  speaker_id  laughter_count  applause_count language  \\\n",
       "0   718724      health        6625             0.0             0.0  English   \n",
       "1    46441   education       53443             NaN             NaN  English   \n",
       "2   273438     society        5107             0.0             0.0  English   \n",
       "3  2031550     culture        1938            12.0             4.0  English   \n",
       "4   802109  technology        6606             0.0             0.0  English   \n",
       "\n",
       "   event_id  \n",
       "0       309  \n",
       "1       309  \n",
       "2       309  \n",
       "3       309  \n",
       "4       233  "
      ]
     },
     "metadata": {},
     "output_type": "display_data"
    },
    {
     "name": "stdout",
     "output_type": "stream",
     "text": [
      "\u001b[34m\u001b[1mИнформация о типах данных\n",
      "\n",
      "<class 'pandas.core.frame.DataFrame'>\n",
      "Int64Index: 3456 entries, 0 to 1151\n",
      "Data columns (total 13 columns):\n",
      " #   Column          Non-Null Count  Dtype  \n",
      "---  ------          --------------  -----  \n",
      " 0   talk_id         3456 non-null   int64  \n",
      " 1   url             3456 non-null   object \n",
      " 2   title           3456 non-null   object \n",
      " 3   description     3456 non-null   object \n",
      " 4   film_date       3456 non-null   object \n",
      " 5   duration        3456 non-null   int64  \n",
      " 6   views           3456 non-null   int64  \n",
      " 7   main_tag        3454 non-null   object \n",
      " 8   speaker_id      3456 non-null   int64  \n",
      " 9   laughter_count  3139 non-null   float64\n",
      " 10  applause_count  3139 non-null   float64\n",
      " 11  language        3456 non-null   object \n",
      " 12  event_id        3456 non-null   int64  \n",
      "dtypes: float64(2), int64(5), object(6)\n",
      "memory usage: 378.0+ KB\n"
     ]
    },
    {
     "data": {
      "text/plain": [
       "None"
      ]
     },
     "metadata": {},
     "output_type": "display_data"
    },
    {
     "name": "stdout",
     "output_type": "stream",
     "text": [
      "\u001b[34m\u001b[1mДоля пропущенных значений \n"
     ]
    },
    {
     "data": {
      "text/plain": [
       "talk_id           0\n",
       "url               0\n",
       "title             0\n",
       "description       0\n",
       "film_date         0\n",
       "duration          0\n",
       "views             0\n",
       "main_tag          0\n",
       "speaker_id        0\n",
       "laughter_count    9\n",
       "applause_count    9\n",
       "language          0\n",
       "event_id          0\n",
       "dtype: int64"
      ]
     },
     "metadata": {},
     "output_type": "display_data"
    }
   ],
   "source": [
    "acquaintance(data)"
   ]
  },
  {
   "cell_type": "markdown",
   "id": "aafd2343",
   "metadata": {},
   "source": [
    "Отметим, что:\n",
    "- названия столбцов представлены по правилам хорошего тона - написаны строчными буквами, пропуски отсутствуют.   \n",
    "- все столбцы представлены в соответствующих форматах.\n",
    "- отсутствуют 9% значений в столбцах `laughter_count` и `applause_count`. Мы не имеем возможности выяснить причину такого отсутствия (возможно, аудитория не смеялась и не аплодировала или этот пропуск связан с внесением данных в изначальную базу) и не имеем оснований для заполнения пропущенных данных. По этой причине пропущенные данные оставляем не заполненными.\n"
   ]
  },
  {
   "cell_type": "markdown",
   "id": "b610c03c",
   "metadata": {},
   "source": [
    "#### Ознакомимся со структурой датафрейма `event` \n",
    "\n",
    "| | | |\n",
    "|:-----|:----|----:|\n",
    "|\n",
    "conf_id |  |уникальный идентификатор конференции|  |\n",
    "event |  |название конференции|  |\n",
    "country |  |страна проведения конференции|  |\n"
   ]
  },
  {
   "cell_type": "code",
   "execution_count": 6,
   "id": "a509305a",
   "metadata": {},
   "outputs": [
    {
     "name": "stdout",
     "output_type": "stream",
     "text": [
      "\u001b[34m\u001b[1mПервые строки датафрейма\n"
     ]
    },
    {
     "data": {
      "text/html": [
       "<div>\n",
       "<style scoped>\n",
       "    .dataframe tbody tr th:only-of-type {\n",
       "        vertical-align: middle;\n",
       "    }\n",
       "\n",
       "    .dataframe tbody tr th {\n",
       "        vertical-align: top;\n",
       "    }\n",
       "\n",
       "    .dataframe thead th {\n",
       "        text-align: right;\n",
       "    }\n",
       "</style>\n",
       "<table border=\"1\" class=\"dataframe\">\n",
       "  <thead>\n",
       "    <tr style=\"text-align: right;\">\n",
       "      <th></th>\n",
       "      <th>conf_id</th>\n",
       "      <th>event</th>\n",
       "      <th>country</th>\n",
       "    </tr>\n",
       "  </thead>\n",
       "  <tbody>\n",
       "    <tr>\n",
       "      <th>0</th>\n",
       "      <td>0</td>\n",
       "      <td>Arbejdsglaede Live</td>\n",
       "      <td>United States</td>\n",
       "    </tr>\n",
       "    <tr>\n",
       "      <th>1</th>\n",
       "      <td>1</td>\n",
       "      <td>Business Innovation Factory</td>\n",
       "      <td>United States</td>\n",
       "    </tr>\n",
       "    <tr>\n",
       "      <th>2</th>\n",
       "      <td>2</td>\n",
       "      <td>Chautauqua Institution</td>\n",
       "      <td>United States</td>\n",
       "    </tr>\n",
       "    <tr>\n",
       "      <th>3</th>\n",
       "      <td>3</td>\n",
       "      <td>DLD 2007</td>\n",
       "      <td>United States</td>\n",
       "    </tr>\n",
       "    <tr>\n",
       "      <th>4</th>\n",
       "      <td>4</td>\n",
       "      <td>EG 2007</td>\n",
       "      <td>United States</td>\n",
       "    </tr>\n",
       "  </tbody>\n",
       "</table>\n",
       "</div>"
      ],
      "text/plain": [
       "   conf_id                        event        country\n",
       "0        0           Arbejdsglaede Live  United States\n",
       "1        1  Business Innovation Factory  United States\n",
       "2        2       Chautauqua Institution  United States\n",
       "3        3                     DLD 2007  United States\n",
       "4        4                      EG 2007  United States"
      ]
     },
     "metadata": {},
     "output_type": "display_data"
    },
    {
     "name": "stdout",
     "output_type": "stream",
     "text": [
      "\u001b[34m\u001b[1mИнформация о типах данных\n",
      "\n",
      "<class 'pandas.core.frame.DataFrame'>\n",
      "RangeIndex: 327 entries, 0 to 326\n",
      "Data columns (total 3 columns):\n",
      " #   Column   Non-Null Count  Dtype \n",
      "---  ------   --------------  ----- \n",
      " 0   conf_id  327 non-null    int64 \n",
      " 1   event    327 non-null    object\n",
      " 2   country  327 non-null    object\n",
      "dtypes: int64(1), object(2)\n",
      "memory usage: 7.8+ KB\n"
     ]
    },
    {
     "data": {
      "text/plain": [
       "None"
      ]
     },
     "metadata": {},
     "output_type": "display_data"
    },
    {
     "name": "stdout",
     "output_type": "stream",
     "text": [
      "\u001b[34m\u001b[1mДоля пропущенных значений \n"
     ]
    },
    {
     "data": {
      "text/plain": [
       "conf_id    0\n",
       "event      0\n",
       "country    0\n",
       "dtype: int64"
      ]
     },
     "metadata": {},
     "output_type": "display_data"
    }
   ],
   "source": [
    "acquaintance(event)"
   ]
  },
  {
   "cell_type": "markdown",
   "id": "3078b361",
   "metadata": {},
   "source": [
    "Отметим, что:\n",
    "- названия столбцов представлены по правилам хорошего тона - написаны строчными буквами, пропуски отсутствуют.   \n",
    "- все столбцы представлены в соответствующих форматах.\n",
    "- отсутствующих значений нет.\n"
   ]
  },
  {
   "cell_type": "markdown",
   "id": "beec8712",
   "metadata": {},
   "source": [
    "#### Ознакомимся со структурой датафрейма `speakers` \n",
    "\n",
    "| | | |\n",
    "|:-----|:----|----:|\n",
    "|\n",
    "author_id |  |уникальный идентификатор автора выступления|  |\n",
    "speaker_name |  |имя автора|  |\n",
    "speaker_occupation |  |профессиональная область автора|  |\n",
    "speaker_description |  |описание профессиональной деятельности автора|  \n"
   ]
  },
  {
   "cell_type": "code",
   "execution_count": 7,
   "id": "4b487f37",
   "metadata": {},
   "outputs": [
    {
     "name": "stdout",
     "output_type": "stream",
     "text": [
      "\u001b[34m\u001b[1mПервые строки датафрейма\n"
     ]
    },
    {
     "data": {
      "text/html": [
       "<div>\n",
       "<style scoped>\n",
       "    .dataframe tbody tr th:only-of-type {\n",
       "        vertical-align: middle;\n",
       "    }\n",
       "\n",
       "    .dataframe tbody tr th {\n",
       "        vertical-align: top;\n",
       "    }\n",
       "\n",
       "    .dataframe thead th {\n",
       "        text-align: right;\n",
       "    }\n",
       "</style>\n",
       "<table border=\"1\" class=\"dataframe\">\n",
       "  <thead>\n",
       "    <tr style=\"text-align: right;\">\n",
       "      <th></th>\n",
       "      <th>author_id</th>\n",
       "      <th>speaker_name</th>\n",
       "      <th>speaker_occupation</th>\n",
       "      <th>speaker_description</th>\n",
       "    </tr>\n",
       "  </thead>\n",
       "  <tbody>\n",
       "    <tr>\n",
       "      <th>0</th>\n",
       "      <td>2</td>\n",
       "      <td>Al Gore</td>\n",
       "      <td>Climate advocate</td>\n",
       "      <td>Nobel Laureate Al Gore focused the world's att...</td>\n",
       "    </tr>\n",
       "    <tr>\n",
       "      <th>1</th>\n",
       "      <td>3</td>\n",
       "      <td>Amy Smith</td>\n",
       "      <td>inventor</td>\n",
       "      <td>Amy Smith designs cheap, practical fixes for t...</td>\n",
       "    </tr>\n",
       "    <tr>\n",
       "      <th>2</th>\n",
       "      <td>4</td>\n",
       "      <td>Ashraf Ghani</td>\n",
       "      <td>President of Afghanistan</td>\n",
       "      <td>Afghanistan's president Ashraf Ghani has initi...</td>\n",
       "    </tr>\n",
       "    <tr>\n",
       "      <th>3</th>\n",
       "      <td>5</td>\n",
       "      <td>Burt Rutan</td>\n",
       "      <td>Aircraft engineer</td>\n",
       "      <td>In 2004, legendary spacecraft designer Burt Ru...</td>\n",
       "    </tr>\n",
       "    <tr>\n",
       "      <th>4</th>\n",
       "      <td>6</td>\n",
       "      <td>Chris Bangle</td>\n",
       "      <td>Car designer</td>\n",
       "      <td>Car design is a ubiquitous but often overlooke...</td>\n",
       "    </tr>\n",
       "  </tbody>\n",
       "</table>\n",
       "</div>"
      ],
      "text/plain": [
       "   author_id  speaker_name        speaker_occupation  \\\n",
       "0          2       Al Gore          Climate advocate   \n",
       "1          3     Amy Smith                  inventor   \n",
       "2          4  Ashraf Ghani  President of Afghanistan   \n",
       "3          5    Burt Rutan         Aircraft engineer   \n",
       "4          6  Chris Bangle              Car designer   \n",
       "\n",
       "                                 speaker_description  \n",
       "0  Nobel Laureate Al Gore focused the world's att...  \n",
       "1  Amy Smith designs cheap, practical fixes for t...  \n",
       "2  Afghanistan's president Ashraf Ghani has initi...  \n",
       "3  In 2004, legendary spacecraft designer Burt Ru...  \n",
       "4  Car design is a ubiquitous but often overlooke...  "
      ]
     },
     "metadata": {},
     "output_type": "display_data"
    },
    {
     "name": "stdout",
     "output_type": "stream",
     "text": [
      "\u001b[34m\u001b[1mИнформация о типах данных\n",
      "\n",
      "<class 'pandas.core.frame.DataFrame'>\n",
      "RangeIndex: 2971 entries, 0 to 2970\n",
      "Data columns (total 4 columns):\n",
      " #   Column               Non-Null Count  Dtype \n",
      "---  ------               --------------  ----- \n",
      " 0   author_id            2971 non-null   int64 \n",
      " 1   speaker_name         2971 non-null   object\n",
      " 2   speaker_occupation   2971 non-null   object\n",
      " 3   speaker_description  2958 non-null   object\n",
      "dtypes: int64(1), object(3)\n",
      "memory usage: 93.0+ KB\n"
     ]
    },
    {
     "data": {
      "text/plain": [
       "None"
      ]
     },
     "metadata": {},
     "output_type": "display_data"
    },
    {
     "name": "stdout",
     "output_type": "stream",
     "text": [
      "\u001b[34m\u001b[1mДоля пропущенных значений \n"
     ]
    },
    {
     "data": {
      "text/plain": [
       "author_id              0\n",
       "speaker_name           0\n",
       "speaker_occupation     0\n",
       "speaker_description    0\n",
       "dtype: int64"
      ]
     },
     "metadata": {},
     "output_type": "display_data"
    }
   ],
   "source": [
    "acquaintance(speakers)"
   ]
  },
  {
   "cell_type": "markdown",
   "id": "05b37324",
   "metadata": {},
   "source": [
    "Отметим, что:\n",
    "- названия столбцов представлены по правилам хорошего тона - написаны строчными буквами, пропуски отсутствуют.   \n",
    "- все столбцы представлены в соответствующих форматах.\n",
    "- отсутствующих значений нет.\n"
   ]
  },
  {
   "cell_type": "markdown",
   "id": "04293f18",
   "metadata": {},
   "source": [
    "Ознакомимся с рядом качественных показателей"
   ]
  },
  {
   "cell_type": "code",
   "execution_count": 8,
   "id": "00489427",
   "metadata": {
    "scrolled": false
   },
   "outputs": [
    {
     "name": "stdout",
     "output_type": "stream",
     "text": [
      "Количество уникальных тематик -  80 \n",
      " Названия уникальных тематик -  ['health' 'education' 'society' 'culture' 'technology' 'economics'\n",
      " 'cities' 'social change' 'business' 'history' 'future' 'nature'\n",
      " 'global issues' 'science' 'architecture' 'communication' nan 'community'\n",
      " 'humanity' 'identity' 'decision-making' 'personal growth' 'creativity'\n",
      " 'psychology' 'design' 'activism' 'politics' 'relationships' 'space' 'art'\n",
      " 'performance' 'work' 'entertainment' 'animation' 'math' 'medicine'\n",
      " 'environment' 'ocean' 'innovation' 'self' 'brain' 'biology' 'ted fellows'\n",
      " 'film' 'ai' 'humor' 'violence' 'data' 'health care' 'food' 'gender'\n",
      " 'sustainability' 'computers' 'africa' 'music' 'invention' 'equality'\n",
      " 'money' 'disability' 'internet' 'women' 'public health' 'government'\n",
      " 'writing' 'storytelling' 'philosophy' 'collaboration' 'engineering'\n",
      " 'neuroscience' 'policy' 'natural disaster' 'animals' 'happiness'\n",
      " 'climate change' 'kids' 'exploration' 'mental health' 'robots'\n",
      " 'transportation' 'visualizations' 'medical research'] \n",
      " Количество уникальных языков -  3 \n",
      " Названия уникальных языков  -  ['English' 'French' 'Spanish'] \n",
      " Количество уникальных профессиональная область автора -  1641 \n",
      " Названия уникальных профессиональная область автора -  ['Climate advocate' 'inventor' 'President of Afghanistan' ... 'Bióloga'\n",
      " 'Productor audiovisual' 'Director of Policy Advocacy'] \n",
      " Количество уникальных  профессиональной деятельности автора -  2958 \n",
      " Количество уникальных названий конференции -  327 \n",
      " Количество уникальных страна проведения конференции -  33 \n",
      " Названия уникальных страна проведения конференции -  ['United States' 'Ecuador' 'Canada' 'Germany' 'UK' 'France' 'Singapore'\n",
      " 'India' 'South Africa' 'Kenya' 'Tanzania' 'Brazil' 'Switzerland'\n",
      " 'Nigeria' 'Netherlands' 'Norway' 'Greece' 'Lebanon' 'Slovakia' 'Belgium'\n",
      " 'Australia' 'Hungary' 'UAE' 'Ireland' 'Sweden' 'Israel' 'Poland' 'Japan'\n",
      " 'Trinidad and Tobago' 'Argentina' 'Mexico' 'South Korea' 'Austria'] \n",
      " Количество уникальных названий конференций -  327 \n",
      " Количество уникальных названий конференций -  327 \n",
      "\n"
     ]
    }
   ],
   "source": [
    "print(\n",
    "    'Количество уникальных тематик - ', data['main_tag'].nunique(),'\\n',\n",
    "    'Названия уникальных тематик - ', data['main_tag'].unique(),'\\n',\n",
    "    'Количество уникальных языков - ', data['language'].nunique(),'\\n',\n",
    "    'Названия уникальных языков  - ',data['language'].unique(),'\\n',\n",
    "    'Количество уникальных профессиональная область автора - ', speakers['speaker_occupation'].nunique(),'\\n',\n",
    "    'Названия уникальных профессиональная область автора - ', speakers['speaker_occupation'].unique(),'\\n',    \n",
    "    'Количество уникальных  профессиональной деятельности автора - ', speakers['speaker_description'].nunique(),'\\n',\n",
    "    #'Названия уникальных  профессиональной деятельности автора  - ',speakers['speaker_description'].unique(),'\\n',\n",
    "    'Количество уникальных названий конференции - ', event['event'].nunique(),'\\n',\n",
    "    #'Названия уникальных названий конференции - ', event['event'].unique(),'\\n',    \n",
    "    'Количество уникальных страна проведения конференции - ', event['country'].nunique(),'\\n',\n",
    "    'Названия уникальных страна проведения конференции - ', event['country'].unique(),'\\n',     \n",
    "    \n",
    "    'Количество уникальных названий конференций - ', event['event'].nunique(),'\\n',\n",
    "    'Количество уникальных названий конференций - ', len(event['event'].unique()),'\\n',\n",
    "        )"
   ]
  },
  {
   "cell_type": "markdown",
   "id": "dfa2abfb",
   "metadata": {},
   "source": [
    "### Краткие выводы об основной информации в датафрейме  \n",
    "Информация в датафреймах представлена бех пропусков.  \n",
    "Форматы данных соответствуют вложениям.\n",
    "\n",
    "**Данных предоставлено достаточно большое количество, чтобы провести анализ.**  \n",
    "Но предже выполним предварительную обработку данных."
   ]
  },
  {
   "cell_type": "markdown",
   "id": "255ed3ae",
   "metadata": {},
   "source": [
    "## Предобработка данных."
   ]
  },
  {
   "cell_type": "markdown",
   "id": "0a0ac9c9",
   "metadata": {},
   "source": [
    "### Проверим данные на наличие дубликатов\n",
    "Проверим данные на наличие явных дубликатов"
   ]
  },
  {
   "cell_type": "code",
   "execution_count": 9,
   "id": "93cdf6f1",
   "metadata": {},
   "outputs": [
    {
     "data": {
      "text/plain": [
       "0"
      ]
     },
     "execution_count": 9,
     "metadata": {},
     "output_type": "execute_result"
    }
   ],
   "source": [
    "data.duplicated().sum()"
   ]
  },
  {
   "cell_type": "code",
   "execution_count": 10,
   "id": "cf96c8e5",
   "metadata": {},
   "outputs": [
    {
     "data": {
      "text/plain": [
       "0"
      ]
     },
     "execution_count": 10,
     "metadata": {},
     "output_type": "execute_result"
    }
   ],
   "source": [
    "event.duplicated().sum()"
   ]
  },
  {
   "cell_type": "code",
   "execution_count": 11,
   "id": "a03c4dee",
   "metadata": {},
   "outputs": [
    {
     "data": {
      "text/plain": [
       "0"
      ]
     },
     "execution_count": 11,
     "metadata": {},
     "output_type": "execute_result"
    }
   ],
   "source": [
    "speakers.duplicated().sum()"
   ]
  },
  {
   "cell_type": "markdown",
   "id": "9af9199c",
   "metadata": {},
   "source": [
    "Дубликаты не выявлены"
   ]
  },
  {
   "cell_type": "markdown",
   "id": "a1abcd2b",
   "metadata": {},
   "source": [
    "### Выводы по разделу\n",
    "Дубликаты не выявлены.\n",
    " \n",
    "**Можно приступить к исследовательскому анализу данных.**"
   ]
  },
  {
   "cell_type": "markdown",
   "id": "ee7ad6f8",
   "metadata": {},
   "source": [
    "## Выводы и заключения\n",
    "\n",
    "-\tна горизонте от 2011 по 2019 годы можно увидеть убывающее количество выступлений по темам Технологии (с 55 до 34), Культура (с 60 до 36), Глобальные вызовы (с 21 до 5) и Наука (с71 до 57. И лишь по теме Общество происходит рост количества выступлений (с 0 до 39). После 2019 года произошел спад количества выступлений по всем темам. \n",
    "-\tВряд ли спад свидетельствует о снижении глобального интереса к указанным темам. Вероятная причина такого поведения показателей - снижение активности докладчиков в рамках именно этой конференции.\n",
    "-\tосновная масса выступлений длится от 4 до 20 минут и просмотры их записей набирают до 3 миллионов просмотров. Дольше всех - 63 минуты - длилось выступление Reed Hastings с докладом 3 secrets to Netflix's success по тематике Культура, а чаще других– 63588711 раз - смотрели вступление Amy Cuddy с докладом Your body language may shape who you are по теме Наука.\n",
    "-\tНаиболее часто встречаемая область деятельности авторов конференции – Writer (Писатель). Также часто встречается Journalist (Журналист), Artist (Артист), Entrepreneur (Предприниматель), Designer (Дизайнер). Абсолютное большинство авторов выступало на конференциях всего один раз – таких почти 2500 авторов или 90%. Дважды выступили 7,5% авторов. И лишь по одному автору выступали шесть, семь и восемь раз.\n",
    "-\tВ ТОП – 15 наиболее популярных по количеству выступлений конференций входят две ежегодных (повторяющихся) конференций – TED20XX и TEDGlobalXX.   Важно отметить, что большинство конференций проводились только один раз и в их рамках была только одна тематика. Среди постоянно присутствующих тем конференций – Искусство, Культура, Дизайн, Наука и Технологии – и они лидируют по количеству как выступлений, так и просмотров. \n",
    "\n",
    "## Ознакомиться с исследованием (дашбордом)  и с презетацией можно, если перейти по ссылкам:\n",
    "\n",
    "[**Открыть дашборд**](https://public.tableau.com/app/profile/aleksandr.cherezov/viz/TED_16973698651400/sheet42)\n",
    "\n",
    "[**Открыть Презентацию**](https://drive.google.com/file/d/1P8LxnFICWaVEUgrJl-WuiLssuAeHVYyc/view?usp=sharing)"
   ]
  }
 ],
 "metadata": {
  "ExecuteTimeLog": [
   {
    "duration": 626,
    "start_time": "2023-10-13T14:16:11.686Z"
   },
   {
    "duration": 2,
    "start_time": "2023-10-13T14:16:12.314Z"
   },
   {
    "duration": 38,
    "start_time": "2023-10-13T14:16:12.318Z"
   },
   {
    "duration": 468,
    "start_time": "2023-10-13T14:16:12.358Z"
   },
   {
    "duration": 12,
    "start_time": "2023-10-13T14:16:12.829Z"
   },
   {
    "duration": 73,
    "start_time": "2023-10-13T14:16:12.844Z"
   },
   {
    "duration": 67,
    "start_time": "2023-10-13T14:16:12.919Z"
   },
   {
    "duration": 24,
    "start_time": "2023-10-13T14:16:12.988Z"
   },
   {
    "duration": 22,
    "start_time": "2023-10-13T14:16:13.014Z"
   },
   {
    "duration": 43,
    "start_time": "2023-10-13T14:16:13.040Z"
   },
   {
    "duration": 19,
    "start_time": "2023-10-13T14:16:13.085Z"
   },
   {
    "duration": 46,
    "start_time": "2023-10-13T14:16:13.105Z"
   },
   {
    "duration": 32,
    "start_time": "2023-10-13T14:16:13.156Z"
   },
   {
    "duration": 34,
    "start_time": "2023-10-13T14:16:13.190Z"
   },
   {
    "duration": 57,
    "start_time": "2023-10-13T14:16:13.226Z"
   },
   {
    "duration": 11,
    "start_time": "2023-10-13T14:16:13.284Z"
   },
   {
    "duration": 31,
    "start_time": "2023-10-13T14:16:13.297Z"
   },
   {
    "duration": 46,
    "start_time": "2023-10-13T14:16:13.329Z"
   },
   {
    "duration": 29,
    "start_time": "2023-10-13T14:16:13.378Z"
   },
   {
    "duration": 9,
    "start_time": "2023-10-13T14:16:13.409Z"
   },
   {
    "duration": 17,
    "start_time": "2023-10-13T14:16:13.419Z"
   },
   {
    "duration": 737,
    "start_time": "2023-10-13T14:17:47.941Z"
   },
   {
    "duration": 2,
    "start_time": "2023-10-13T14:17:48.680Z"
   },
   {
    "duration": 44,
    "start_time": "2023-10-13T14:17:48.684Z"
   },
   {
    "duration": 451,
    "start_time": "2023-10-13T14:17:48.730Z"
   },
   {
    "duration": 10,
    "start_time": "2023-10-13T14:17:49.183Z"
   },
   {
    "duration": 47,
    "start_time": "2023-10-13T14:17:49.194Z"
   },
   {
    "duration": 39,
    "start_time": "2023-10-13T14:17:49.243Z"
   },
   {
    "duration": 35,
    "start_time": "2023-10-13T14:17:49.284Z"
   },
   {
    "duration": 51,
    "start_time": "2023-10-13T14:17:49.321Z"
   },
   {
    "duration": 27,
    "start_time": "2023-10-13T14:17:49.378Z"
   },
   {
    "duration": 41,
    "start_time": "2023-10-13T14:17:49.407Z"
   },
   {
    "duration": 32,
    "start_time": "2023-10-13T14:17:49.450Z"
   },
   {
    "duration": 37,
    "start_time": "2023-10-13T14:17:49.483Z"
   },
   {
    "duration": 44,
    "start_time": "2023-10-13T14:17:49.521Z"
   },
   {
    "duration": 43,
    "start_time": "2023-10-13T14:17:49.566Z"
   },
   {
    "duration": 17,
    "start_time": "2023-10-13T14:17:49.611Z"
   },
   {
    "duration": 44,
    "start_time": "2023-10-13T14:17:49.630Z"
   },
   {
    "duration": 42,
    "start_time": "2023-10-13T14:17:49.676Z"
   },
   {
    "duration": 56,
    "start_time": "2023-10-13T14:17:49.719Z"
   },
   {
    "duration": 14,
    "start_time": "2023-10-13T14:17:49.777Z"
   },
   {
    "duration": 54,
    "start_time": "2023-10-13T14:17:49.793Z"
   },
   {
    "duration": 3,
    "start_time": "2023-10-13T14:37:25.367Z"
   },
   {
    "duration": 28,
    "start_time": "2023-10-13T14:37:25.374Z"
   },
   {
    "duration": 37,
    "start_time": "2023-10-13T14:37:25.403Z"
   },
   {
    "duration": 850,
    "start_time": "2023-10-13T14:37:25.442Z"
   },
   {
    "duration": 11,
    "start_time": "2023-10-13T14:37:26.295Z"
   },
   {
    "duration": 34,
    "start_time": "2023-10-13T14:37:26.308Z"
   },
   {
    "duration": 53,
    "start_time": "2023-10-13T14:37:26.344Z"
   },
   {
    "duration": 35,
    "start_time": "2023-10-13T14:37:26.398Z"
   },
   {
    "duration": 40,
    "start_time": "2023-10-13T14:37:26.434Z"
   },
   {
    "duration": 32,
    "start_time": "2023-10-13T14:37:26.476Z"
   },
   {
    "duration": 22,
    "start_time": "2023-10-13T14:37:26.510Z"
   },
   {
    "duration": 46,
    "start_time": "2023-10-13T14:37:26.533Z"
   },
   {
    "duration": 36,
    "start_time": "2023-10-13T14:37:26.582Z"
   },
   {
    "duration": 62,
    "start_time": "2023-10-13T14:37:26.621Z"
   },
   {
    "duration": 36,
    "start_time": "2023-10-13T14:37:26.685Z"
   },
   {
    "duration": 78,
    "start_time": "2023-10-13T14:37:26.723Z"
   },
   {
    "duration": 152,
    "start_time": "2023-10-13T14:37:26.803Z"
   },
   {
    "duration": 70,
    "start_time": "2023-10-13T14:37:26.958Z"
   },
   {
    "duration": 162,
    "start_time": "2023-10-13T14:37:27.030Z"
   },
   {
    "duration": 93,
    "start_time": "2023-10-13T14:37:27.194Z"
   },
   {
    "duration": 33,
    "start_time": "2023-10-13T14:37:27.288Z"
   },
   {
    "duration": 793,
    "start_time": "2023-10-15T07:10:17.703Z"
   },
   {
    "duration": 2,
    "start_time": "2023-10-15T07:10:18.498Z"
   },
   {
    "duration": 12,
    "start_time": "2023-10-15T07:10:18.501Z"
   },
   {
    "duration": 570,
    "start_time": "2023-10-15T07:10:18.515Z"
   },
   {
    "duration": 10,
    "start_time": "2023-10-15T07:10:19.086Z"
   },
   {
    "duration": 21,
    "start_time": "2023-10-15T07:10:19.097Z"
   },
   {
    "duration": 11,
    "start_time": "2023-10-15T07:10:19.120Z"
   },
   {
    "duration": 12,
    "start_time": "2023-10-15T07:10:19.133Z"
   },
   {
    "duration": 6,
    "start_time": "2023-10-15T07:10:19.146Z"
   },
   {
    "duration": 16,
    "start_time": "2023-10-15T07:10:19.154Z"
   },
   {
    "duration": 11,
    "start_time": "2023-10-15T07:10:19.171Z"
   },
   {
    "duration": 9,
    "start_time": "2023-10-15T07:10:19.183Z"
   },
   {
    "duration": 9,
    "start_time": "2023-10-15T07:10:19.193Z"
   },
   {
    "duration": 11,
    "start_time": "2023-10-15T07:10:19.204Z"
   },
   {
    "duration": 44,
    "start_time": "2023-10-15T07:10:19.217Z"
   },
   {
    "duration": 10,
    "start_time": "2023-10-15T07:10:19.262Z"
   },
   {
    "duration": 18,
    "start_time": "2023-10-15T07:10:19.273Z"
   },
   {
    "duration": 17,
    "start_time": "2023-10-15T07:10:19.293Z"
   },
   {
    "duration": 34,
    "start_time": "2023-10-15T07:10:19.311Z"
   },
   {
    "duration": 5,
    "start_time": "2023-10-15T07:10:19.346Z"
   },
   {
    "duration": 8,
    "start_time": "2023-10-15T07:10:19.353Z"
   },
   {
    "duration": 15,
    "start_time": "2023-10-15T07:16:13.392Z"
   },
   {
    "duration": 2,
    "start_time": "2023-10-15T11:40:37.330Z"
   },
   {
    "duration": 13,
    "start_time": "2023-10-15T11:57:58.468Z"
   },
   {
    "duration": 437,
    "start_time": "2023-10-15T17:28:12.339Z"
   },
   {
    "duration": 867,
    "start_time": "2023-10-15T17:28:12.778Z"
   },
   {
    "duration": 10,
    "start_time": "2023-10-15T17:28:13.647Z"
   },
   {
    "duration": 38,
    "start_time": "2023-10-15T17:28:13.658Z"
   },
   {
    "duration": 35,
    "start_time": "2023-10-15T17:28:13.698Z"
   },
   {
    "duration": 55,
    "start_time": "2023-10-15T17:28:13.735Z"
   },
   {
    "duration": 38,
    "start_time": "2023-10-15T17:28:13.794Z"
   },
   {
    "duration": 60,
    "start_time": "2023-10-15T17:28:13.834Z"
   },
   {
    "duration": 24,
    "start_time": "2023-10-15T17:28:13.896Z"
   },
   {
    "duration": 30,
    "start_time": "2023-10-15T17:28:13.922Z"
   },
   {
    "duration": 22,
    "start_time": "2023-10-15T17:28:13.953Z"
   },
   {
    "duration": 38,
    "start_time": "2023-10-15T17:28:13.977Z"
   },
   {
    "duration": 53,
    "start_time": "2023-10-15T17:28:14.017Z"
   },
   {
    "duration": 36,
    "start_time": "2023-10-15T17:28:14.071Z"
   },
   {
    "duration": 4,
    "start_time": "2023-10-15T17:28:14.109Z"
   },
   {
    "duration": 16,
    "start_time": "2023-10-15T17:28:14.114Z"
   },
   {
    "duration": 62,
    "start_time": "2023-10-15T17:31:25.167Z"
   },
   {
    "duration": 22,
    "start_time": "2023-10-15T17:31:31.385Z"
   },
   {
    "duration": 14,
    "start_time": "2023-10-15T17:37:43.624Z"
   },
   {
    "duration": 11,
    "start_time": "2023-10-15T17:37:48.560Z"
   },
   {
    "duration": 5,
    "start_time": "2023-10-15T17:38:16.971Z"
   },
   {
    "duration": 19,
    "start_time": "2023-10-15T17:38:20.828Z"
   },
   {
    "duration": 521,
    "start_time": "2023-10-15T17:39:10.667Z"
   },
   {
    "duration": 117,
    "start_time": "2023-10-15T17:47:13.237Z"
   },
   {
    "duration": 13,
    "start_time": "2023-10-15T17:47:25.573Z"
   },
   {
    "duration": 25,
    "start_time": "2023-10-15T17:47:47.618Z"
   },
   {
    "duration": 10,
    "start_time": "2023-10-15T17:47:53.251Z"
   },
   {
    "duration": 11,
    "start_time": "2023-10-15T17:48:13.277Z"
   },
   {
    "duration": 11,
    "start_time": "2023-10-15T17:48:30.028Z"
   },
   {
    "duration": 13,
    "start_time": "2023-10-15T17:48:54.812Z"
   },
   {
    "duration": 12,
    "start_time": "2023-10-15T17:49:19.481Z"
   },
   {
    "duration": 375,
    "start_time": "2023-10-15T17:49:58.081Z"
   },
   {
    "duration": 10,
    "start_time": "2023-10-15T17:50:32.928Z"
   },
   {
    "duration": 6,
    "start_time": "2023-10-15T17:51:09.007Z"
   },
   {
    "duration": 11,
    "start_time": "2023-10-15T17:51:14.263Z"
   },
   {
    "duration": 13,
    "start_time": "2023-10-15T17:51:43.368Z"
   },
   {
    "duration": 10,
    "start_time": "2023-10-15T17:51:58.543Z"
   },
   {
    "duration": 11,
    "start_time": "2023-10-15T17:52:12.485Z"
   },
   {
    "duration": 11,
    "start_time": "2023-10-15T17:52:31.718Z"
   },
   {
    "duration": 18,
    "start_time": "2023-10-15T17:52:48.304Z"
   },
   {
    "duration": 11,
    "start_time": "2023-10-15T17:54:28.230Z"
   },
   {
    "duration": 12,
    "start_time": "2023-10-15T17:54:38.981Z"
   },
   {
    "duration": 10,
    "start_time": "2023-10-15T17:54:55.798Z"
   },
   {
    "duration": 16,
    "start_time": "2023-10-15T17:55:03.437Z"
   },
   {
    "duration": 12,
    "start_time": "2023-10-15T17:55:27.447Z"
   },
   {
    "duration": 15,
    "start_time": "2023-10-15T17:55:34.887Z"
   },
   {
    "duration": 18,
    "start_time": "2023-10-15T17:56:22.175Z"
   },
   {
    "duration": 21,
    "start_time": "2023-10-15T17:56:31.979Z"
   },
   {
    "duration": 14,
    "start_time": "2023-10-15T17:56:39.923Z"
   },
   {
    "duration": 4,
    "start_time": "2023-10-15T17:58:08.328Z"
   },
   {
    "duration": 325,
    "start_time": "2023-10-15T17:58:08.334Z"
   },
   {
    "duration": 10,
    "start_time": "2023-10-15T17:58:08.660Z"
   },
   {
    "duration": 28,
    "start_time": "2023-10-15T17:58:08.672Z"
   },
   {
    "duration": 20,
    "start_time": "2023-10-15T17:58:08.702Z"
   },
   {
    "duration": 22,
    "start_time": "2023-10-15T17:58:08.724Z"
   },
   {
    "duration": 18,
    "start_time": "2023-10-15T17:58:08.747Z"
   },
   {
    "duration": 33,
    "start_time": "2023-10-15T17:58:08.767Z"
   },
   {
    "duration": 14,
    "start_time": "2023-10-15T17:58:08.803Z"
   },
   {
    "duration": 28,
    "start_time": "2023-10-15T17:58:08.819Z"
   },
   {
    "duration": 23,
    "start_time": "2023-10-15T17:58:08.848Z"
   },
   {
    "duration": 21,
    "start_time": "2023-10-15T17:58:08.873Z"
   },
   {
    "duration": 27,
    "start_time": "2023-10-15T17:58:08.897Z"
   },
   {
    "duration": 29,
    "start_time": "2023-10-15T17:58:08.926Z"
   },
   {
    "duration": 9,
    "start_time": "2023-10-15T17:58:08.957Z"
   },
   {
    "duration": 19,
    "start_time": "2023-10-15T17:58:08.968Z"
   },
   {
    "duration": 10,
    "start_time": "2023-10-15T17:58:08.989Z"
   },
   {
    "duration": 2,
    "start_time": "2023-10-15T17:58:10.074Z"
   },
   {
    "duration": 13,
    "start_time": "2023-10-15T17:58:11.740Z"
   },
   {
    "duration": 5,
    "start_time": "2023-10-15T17:58:16.555Z"
   },
   {
    "duration": 14,
    "start_time": "2023-10-15T17:58:17.980Z"
   },
   {
    "duration": 14,
    "start_time": "2023-10-15T17:58:58.002Z"
   },
   {
    "duration": 19,
    "start_time": "2023-10-15T17:59:19.268Z"
   },
   {
    "duration": 22,
    "start_time": "2023-10-15T18:00:59.371Z"
   },
   {
    "duration": 7,
    "start_time": "2023-10-15T18:01:33.413Z"
   },
   {
    "duration": 17,
    "start_time": "2023-10-15T18:01:40.886Z"
   },
   {
    "duration": 7,
    "start_time": "2023-10-15T18:01:41.875Z"
   },
   {
    "duration": 5,
    "start_time": "2023-10-15T18:01:52.994Z"
   },
   {
    "duration": 5,
    "start_time": "2023-10-15T18:02:03.036Z"
   },
   {
    "duration": 74,
    "start_time": "2023-10-15T18:03:25.067Z"
   },
   {
    "duration": 80,
    "start_time": "2023-10-15T18:04:00.662Z"
   },
   {
    "duration": 74,
    "start_time": "2023-10-15T18:04:16.603Z"
   },
   {
    "duration": 17,
    "start_time": "2023-10-15T18:04:31.361Z"
   },
   {
    "duration": 50,
    "start_time": "2023-10-15T18:05:30.508Z"
   },
   {
    "duration": 47,
    "start_time": "2023-10-15T18:05:37.002Z"
   },
   {
    "duration": 18,
    "start_time": "2023-10-15T18:06:05.924Z"
   },
   {
    "duration": 19,
    "start_time": "2023-10-15T18:06:23.236Z"
   },
   {
    "duration": 14,
    "start_time": "2023-10-15T18:06:53.863Z"
   },
   {
    "duration": 5,
    "start_time": "2023-10-15T18:07:02.412Z"
   },
   {
    "duration": 129,
    "start_time": "2023-10-15T18:07:04.708Z"
   },
   {
    "duration": 134,
    "start_time": "2023-10-15T18:07:28.846Z"
   },
   {
    "duration": 106,
    "start_time": "2023-10-15T18:08:39.443Z"
   },
   {
    "duration": 15,
    "start_time": "2023-10-15T18:09:48.883Z"
   },
   {
    "duration": 18,
    "start_time": "2023-10-15T18:12:05.446Z"
   },
   {
    "duration": 104,
    "start_time": "2023-10-15T18:12:09.974Z"
   },
   {
    "duration": 11,
    "start_time": "2023-10-15T18:13:32.380Z"
   },
   {
    "duration": 14,
    "start_time": "2023-10-15T18:14:47.025Z"
   },
   {
    "duration": 9,
    "start_time": "2023-10-15T18:15:28.677Z"
   },
   {
    "duration": 10,
    "start_time": "2023-10-15T18:15:41.922Z"
   },
   {
    "duration": 34,
    "start_time": "2023-10-15T18:15:53.849Z"
   },
   {
    "duration": 28,
    "start_time": "2023-10-15T18:17:02.381Z"
   },
   {
    "duration": 28,
    "start_time": "2023-10-15T18:17:35.391Z"
   },
   {
    "duration": 32,
    "start_time": "2023-10-15T18:17:47.448Z"
   },
   {
    "duration": 1262,
    "start_time": "2023-10-15T18:18:08.015Z"
   },
   {
    "duration": 109,
    "start_time": "2023-10-15T18:18:33.844Z"
   },
   {
    "duration": 715,
    "start_time": "2023-10-15T18:18:39.752Z"
   },
   {
    "duration": 32,
    "start_time": "2023-10-15T18:19:05.477Z"
   },
   {
    "duration": 32,
    "start_time": "2023-10-15T18:20:04.863Z"
   },
   {
    "duration": 114,
    "start_time": "2023-10-15T18:25:11.068Z"
   },
   {
    "duration": 9,
    "start_time": "2023-10-15T18:25:43.404Z"
   },
   {
    "duration": 3,
    "start_time": "2023-10-15T18:25:58.194Z"
   },
   {
    "duration": 38,
    "start_time": "2023-10-15T18:29:21.217Z"
   },
   {
    "duration": 417,
    "start_time": "2023-10-16T06:41:09.966Z"
   },
   {
    "duration": 753,
    "start_time": "2023-10-16T06:41:10.385Z"
   },
   {
    "duration": 11,
    "start_time": "2023-10-16T06:41:11.140Z"
   },
   {
    "duration": 22,
    "start_time": "2023-10-16T06:41:11.153Z"
   },
   {
    "duration": 15,
    "start_time": "2023-10-16T06:41:11.177Z"
   },
   {
    "duration": 18,
    "start_time": "2023-10-16T06:41:11.193Z"
   },
   {
    "duration": 8,
    "start_time": "2023-10-16T06:41:11.213Z"
   },
   {
    "duration": 13,
    "start_time": "2023-10-16T06:41:11.223Z"
   },
   {
    "duration": 11,
    "start_time": "2023-10-16T06:41:11.238Z"
   },
   {
    "duration": 23,
    "start_time": "2023-10-16T06:41:11.252Z"
   },
   {
    "duration": 28,
    "start_time": "2023-10-16T06:41:11.277Z"
   },
   {
    "duration": 26,
    "start_time": "2023-10-16T06:41:11.307Z"
   },
   {
    "duration": 17,
    "start_time": "2023-10-16T06:41:11.335Z"
   },
   {
    "duration": 36,
    "start_time": "2023-10-16T06:41:11.354Z"
   },
   {
    "duration": 6,
    "start_time": "2023-10-16T06:41:11.392Z"
   },
   {
    "duration": 15,
    "start_time": "2023-10-16T06:41:11.400Z"
   },
   {
    "duration": 12,
    "start_time": "2023-10-16T06:41:11.417Z"
   },
   {
    "duration": 20,
    "start_time": "2023-10-16T06:41:11.431Z"
   },
   {
    "duration": 10,
    "start_time": "2023-10-16T06:41:11.453Z"
   },
   {
    "duration": 26,
    "start_time": "2023-10-16T06:41:11.465Z"
   },
   {
    "duration": 27,
    "start_time": "2023-10-16T06:41:11.493Z"
   },
   {
    "duration": 560,
    "start_time": "2023-10-16T06:41:11.521Z"
   },
   {
    "duration": 3,
    "start_time": "2023-10-16T06:41:12.083Z"
   },
   {
    "duration": 47,
    "start_time": "2023-10-16T06:41:12.087Z"
   },
   {
    "duration": 32,
    "start_time": "2023-10-16T06:41:12.136Z"
   },
   {
    "duration": 5,
    "start_time": "2023-10-16T06:41:12.170Z"
   },
   {
    "duration": 36,
    "start_time": "2023-10-16T06:41:40.598Z"
   },
   {
    "duration": 35,
    "start_time": "2023-10-16T06:43:42.250Z"
   },
   {
    "duration": 35,
    "start_time": "2023-10-16T06:45:30.552Z"
   },
   {
    "duration": 32,
    "start_time": "2023-10-16T06:58:18.859Z"
   },
   {
    "duration": 9,
    "start_time": "2023-10-16T07:09:59.373Z"
   },
   {
    "duration": 14,
    "start_time": "2023-10-16T07:10:22.211Z"
   },
   {
    "duration": 9,
    "start_time": "2023-10-16T07:12:50.135Z"
   },
   {
    "duration": 7,
    "start_time": "2023-10-16T07:13:06.823Z"
   },
   {
    "duration": 4,
    "start_time": "2023-10-16T07:20:00.131Z"
   },
   {
    "duration": 3,
    "start_time": "2023-10-16T07:20:10.362Z"
   },
   {
    "duration": 17,
    "start_time": "2023-10-16T07:20:25.365Z"
   },
   {
    "duration": 242,
    "start_time": "2023-10-16T07:21:05.020Z"
   },
   {
    "duration": 3,
    "start_time": "2023-10-16T07:21:16.150Z"
   },
   {
    "duration": 21,
    "start_time": "2023-10-16T07:21:19.187Z"
   },
   {
    "duration": 3,
    "start_time": "2023-10-16T07:22:50.991Z"
   },
   {
    "duration": 3,
    "start_time": "2023-10-16T07:22:55.037Z"
   },
   {
    "duration": 29,
    "start_time": "2023-10-16T07:22:55.620Z"
   },
   {
    "duration": 3,
    "start_time": "2023-10-16T07:23:08.925Z"
   },
   {
    "duration": 29,
    "start_time": "2023-10-16T07:23:09.438Z"
   },
   {
    "duration": 19,
    "start_time": "2023-10-16T07:24:09.513Z"
   },
   {
    "duration": 23,
    "start_time": "2023-10-16T07:25:12.612Z"
   },
   {
    "duration": 3,
    "start_time": "2023-10-16T07:25:47.277Z"
   },
   {
    "duration": 3,
    "start_time": "2023-10-16T07:26:43.926Z"
   },
   {
    "duration": 3,
    "start_time": "2023-10-16T07:35:57.383Z"
   },
   {
    "duration": 30,
    "start_time": "2023-10-16T07:35:59.166Z"
   },
   {
    "duration": 3,
    "start_time": "2023-10-16T07:36:27.010Z"
   },
   {
    "duration": 34,
    "start_time": "2023-10-16T07:36:28.343Z"
   },
   {
    "duration": 19,
    "start_time": "2023-10-16T07:37:11.144Z"
   },
   {
    "duration": 23,
    "start_time": "2023-10-16T07:38:14.072Z"
   },
   {
    "duration": 3,
    "start_time": "2023-10-16T08:16:23.106Z"
   },
   {
    "duration": 717,
    "start_time": "2023-10-16T08:16:23.111Z"
   },
   {
    "duration": 11,
    "start_time": "2023-10-16T08:16:23.831Z"
   },
   {
    "duration": 5,
    "start_time": "2023-10-16T08:16:23.844Z"
   },
   {
    "duration": 52,
    "start_time": "2023-10-16T08:16:23.851Z"
   },
   {
    "duration": 25,
    "start_time": "2023-10-16T08:16:23.905Z"
   },
   {
    "duration": 21,
    "start_time": "2023-10-16T08:16:23.932Z"
   },
   {
    "duration": 55,
    "start_time": "2023-10-16T08:16:23.955Z"
   },
   {
    "duration": 15,
    "start_time": "2023-10-16T08:16:24.012Z"
   },
   {
    "duration": 28,
    "start_time": "2023-10-16T08:16:24.029Z"
   },
   {
    "duration": 28,
    "start_time": "2023-10-16T08:16:24.059Z"
   },
   {
    "duration": 419,
    "start_time": "2023-10-19T18:25:39.476Z"
   },
   {
    "duration": 474,
    "start_time": "2023-10-19T18:25:39.897Z"
   },
   {
    "duration": 11,
    "start_time": "2023-10-19T18:25:40.373Z"
   },
   {
    "duration": 4,
    "start_time": "2023-10-19T18:25:40.386Z"
   },
   {
    "duration": 68,
    "start_time": "2023-10-19T18:25:40.392Z"
   },
   {
    "duration": 22,
    "start_time": "2023-10-19T18:25:40.461Z"
   },
   {
    "duration": 28,
    "start_time": "2023-10-19T18:25:40.485Z"
   },
   {
    "duration": 53,
    "start_time": "2023-10-19T18:25:40.515Z"
   },
   {
    "duration": 23,
    "start_time": "2023-10-19T18:25:40.570Z"
   },
   {
    "duration": 26,
    "start_time": "2023-10-19T18:25:40.596Z"
   },
   {
    "duration": 14,
    "start_time": "2023-10-19T18:25:40.625Z"
   }
  ],
  "kernelspec": {
   "display_name": "Python 3 (ipykernel)",
   "language": "python",
   "name": "python3"
  },
  "language_info": {
   "codemirror_mode": {
    "name": "ipython",
    "version": 3
   },
   "file_extension": ".py",
   "mimetype": "text/x-python",
   "name": "python",
   "nbconvert_exporter": "python",
   "pygments_lexer": "ipython3",
   "version": "3.9.5"
  },
  "toc": {
   "base_numbering": 1,
   "nav_menu": {},
   "number_sections": true,
   "sideBar": true,
   "skip_h1_title": true,
   "title_cell": "Table of Contents",
   "title_sidebar": "Contents",
   "toc_cell": false,
   "toc_position": {},
   "toc_section_display": true,
   "toc_window_display": false
  }
 },
 "nbformat": 4,
 "nbformat_minor": 5
}
